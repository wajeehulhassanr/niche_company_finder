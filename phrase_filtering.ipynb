{
 "cells": [
  {
   "cell_type": "code",
   "execution_count": 1,
   "metadata": {},
   "outputs": [
    {
     "name": "stdout",
     "output_type": "stream",
     "text": [
      "Requirement already satisfied: exa_py in /opt/anaconda3/lib/python3.12/site-packages (1.0.18)\n",
      "Requirement already satisfied: requests in /opt/anaconda3/lib/python3.12/site-packages (from exa_py) (2.31.0)\n",
      "Requirement already satisfied: typing-extensions in /opt/anaconda3/lib/python3.12/site-packages (from exa_py) (4.12.2)\n",
      "Requirement already satisfied: openai>=1.10.0 in /opt/anaconda3/lib/python3.12/site-packages (from exa_py) (1.41.0)\n",
      "Requirement already satisfied: anyio<5,>=3.5.0 in /opt/anaconda3/lib/python3.12/site-packages (from openai>=1.10.0->exa_py) (4.3.0)\n",
      "Requirement already satisfied: distro<2,>=1.7.0 in /opt/anaconda3/lib/python3.12/site-packages (from openai>=1.10.0->exa_py) (1.9.0)\n",
      "Requirement already satisfied: httpx<1,>=0.23.0 in /opt/anaconda3/lib/python3.12/site-packages (from openai>=1.10.0->exa_py) (0.27.0)\n",
      "Requirement already satisfied: jiter<1,>=0.4.0 in /opt/anaconda3/lib/python3.12/site-packages (from openai>=1.10.0->exa_py) (0.5.0)\n",
      "Requirement already satisfied: pydantic<3,>=1.9.0 in /opt/anaconda3/lib/python3.12/site-packages (from openai>=1.10.0->exa_py) (2.6.4)\n",
      "Requirement already satisfied: sniffio in /opt/anaconda3/lib/python3.12/site-packages (from openai>=1.10.0->exa_py) (1.3.1)\n",
      "Requirement already satisfied: tqdm>4 in /opt/anaconda3/lib/python3.12/site-packages (from openai>=1.10.0->exa_py) (4.66.2)\n",
      "Requirement already satisfied: charset-normalizer<4,>=2 in /opt/anaconda3/lib/python3.12/site-packages (from requests->exa_py) (3.3.2)\n",
      "Requirement already satisfied: idna<4,>=2.5 in /opt/anaconda3/lib/python3.12/site-packages (from requests->exa_py) (3.6)\n",
      "Requirement already satisfied: urllib3<3,>=1.21.1 in /opt/anaconda3/lib/python3.12/site-packages (from requests->exa_py) (2.2.1)\n",
      "Requirement already satisfied: certifi>=2017.4.17 in /opt/anaconda3/lib/python3.12/site-packages (from requests->exa_py) (2024.2.2)\n",
      "Requirement already satisfied: httpcore==1.* in /opt/anaconda3/lib/python3.12/site-packages (from httpx<1,>=0.23.0->openai>=1.10.0->exa_py) (1.0.5)\n",
      "Requirement already satisfied: h11<0.15,>=0.13 in /opt/anaconda3/lib/python3.12/site-packages (from httpcore==1.*->httpx<1,>=0.23.0->openai>=1.10.0->exa_py) (0.14.0)\n",
      "Requirement already satisfied: annotated-types>=0.4.0 in /opt/anaconda3/lib/python3.12/site-packages (from pydantic<3,>=1.9.0->openai>=1.10.0->exa_py) (0.6.0)\n",
      "Requirement already satisfied: pydantic-core==2.16.3 in /opt/anaconda3/lib/python3.12/site-packages (from pydantic<3,>=1.9.0->openai>=1.10.0->exa_py) (2.16.3)\n",
      "Note: you may need to restart the kernel to use updated packages.\n",
      "Requirement already satisfied: python-dotenv in /opt/anaconda3/lib/python3.12/site-packages (0.21.0)\n",
      "Note: you may need to restart the kernel to use updated packages.\n"
     ]
    }
   ],
   "source": [
    "%pip install exa_py\n",
    "%pip install python-dotenv"
   ]
  },
  {
   "cell_type": "code",
   "execution_count": 2,
   "metadata": {},
   "outputs": [],
   "source": [
    "import os\n",
    "from dotenv import load_dotenv # pip install python-dotenv\n",
    "load_dotenv()\n",
    "openai_api_key = os.getenv(\"OPENAI_API_KEY\")\n",
    "exa_api_key = os.getenv(\"EXA_API_KEY\")"
   ]
  },
  {
   "cell_type": "code",
   "execution_count": 3,
   "metadata": {},
   "outputs": [],
   "source": [
    "# Now, import the Exa class and pass your API key to it.\n",
    "from exa_py import Exa\n",
    "\n",
    "\n",
    "exa = Exa(exa_api_key)"
   ]
  },
  {
   "cell_type": "code",
   "execution_count": 8,
   "metadata": {},
   "outputs": [
    {
     "name": "stdout",
     "output_type": "stream",
     "text": [
      "LMPk | Legal Maxim Pakistan\n",
      "HQ Law Offices LLP - Tax Finance & Legal Advisors\n",
      "Public Policy Research Center | Beats Venture | Karachi & Lahore\n",
      "Mitigate Contracts Risks. Consistently.\n",
      "Ejad Labs | Digital Accelerator In Pakistan & South Asia\n",
      "Umar Saif\n",
      "© 2023 Elphinstone, Inc. All rights reserved.\n",
      "ZGPT.AI LAW, INC.™\n",
      "Elphinstone, Inc.: Robo-advisory platform for Pakistan | Y Combinator\n",
      "Change.\n"
     ]
    }
   ],
   "source": [
    "results = exa.search_and_contents(\n",
    "  \"AI based law company in pakistan\",\n",
    "  type=\"neural\",\n",
    "  use_autoprompt=True,\n",
    "  num_results=10,\n",
    "  text=True,\n",
    "\tinclude_text=[\"Inc.\"]\n",
    ")\n",
    "\n",
    "\n",
    "for result in results.results:\n",
    "  if result.title:\n",
    "    print(result.title)\n",
    "  else:\n",
    "    print(None)"
   ]
  },
  {
   "cell_type": "code",
   "execution_count": null,
   "metadata": {},
   "outputs": [],
   "source": []
  }
 ],
 "metadata": {
  "kernelspec": {
   "display_name": "Python 3",
   "language": "python",
   "name": "python3"
  },
  "language_info": {
   "codemirror_mode": {
    "name": "ipython",
    "version": 3
   },
   "file_extension": ".py",
   "mimetype": "text/x-python",
   "name": "python",
   "nbconvert_exporter": "python",
   "pygments_lexer": "ipython3",
   "version": "3.12.4"
  }
 },
 "nbformat": 4,
 "nbformat_minor": 2
}
